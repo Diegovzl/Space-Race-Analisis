{
  "nbformat": 4,
  "nbformat_minor": 0,
  "metadata": {
    "colab": {
      "provenance": [],
      "collapsed_sections": []
    },
    "kernelspec": {
      "name": "python3",
      "display_name": "Python 3"
    },
    "language_info": {
      "name": "python"
    }
  },
  "cells": [
    {
      "cell_type": "markdown",
      "source": [
        "### Import Statements"
      ],
      "metadata": {
        "id": "WKBD4F9eu5Pu"
      }
    },
    {
      "cell_type": "code",
      "source": [
        "from bs4 import BeautifulSoup\n",
        "import requests\n",
        "import pandas as pd"
      ],
      "metadata": {
        "id": "7hBBffMteeO_"
      },
      "execution_count": null,
      "outputs": []
    },
    {
      "cell_type": "markdown",
      "metadata": {
        "id": "4z5h1Yuq7uw0"
      },
      "source": [
        "## Google docs connection"
      ]
    },
    {
      "cell_type": "code",
      "execution_count": null,
      "metadata": {
        "id": "dR0dffuq7rUO",
        "colab": {
          "base_uri": "https://localhost:8080/"
        },
        "outputId": "1ed36f5a-4cb5-4765-f001-cd682b7bc047"
      },
      "outputs": [
        {
          "output_type": "stream",
          "name": "stdout",
          "text": [
            "Drive already mounted at /content/drive; to attempt to forcibly remount, call drive.mount(\"/content/drive\", force_remount=True).\n"
          ]
        }
      ],
      "source": [
        "#Execute the cell and follow the steps, it is necessary to connect with the user account in which the files are contained.from google.colab import drive\n",
        "from google.colab import drive\n",
        "drive.mount('/content/drive')"
      ]
    },
    {
      "cell_type": "markdown",
      "source": [
        "# Scrapping Data Launches"
      ],
      "metadata": {
        "id": "wBjiErEjvGhx"
      }
    },
    {
      "cell_type": "code",
      "source": [
        "#Getting the Table’s Elements with BeautifulSoup\n",
        "webpage = \"https://nextspaceflight.com/launches/past/?page=1&search=\" # Go to the record of past spaceflights.\n",
        "\n",
        "spaceflights_list = []\n",
        "while True:\n",
        "  space_flights = requests.get(webpage)\n",
        "  soup = BeautifulSoup(space_flights.content, \"lxml\")\n",
        "  records = soup.find_all(\"div\", {\"class\":\"mdl-cell mdl-cell--6-col\"})\n",
        "  for cell in records:\n",
        "    #Setting variables\n",
        "    organisation = None\n",
        "    detail = None\n",
        "    date = None\n",
        "    location = None\n",
        "    mission_status = None\n",
        "    price = None\n",
        "    rocket_status = None\n",
        "\n",
        "    organisation = cell.find(\"div\", {\"class\":\"mdl-card__title-text\"}).text.strip() #Organisation\n",
        "    detail = cell.find(\"h5\", {\"class\":\"header-style\"}).text.strip() #Detail\n",
        "\n",
        "    info = cell.find(\"div\", {\"class\":\"mdl-card__supporting-text\"})#Date, Location\n",
        "    date = info.text.strip().split('\\n')[0]\n",
        "    location = info.find('br').next_sibling.strip()\n",
        "\n",
        "    #Scrape launch details\n",
        "    details_button = cell.find(\"button\", {\"class\":\"mdc-button\"}).get('onclick').split(\"=\")[1].replace(\"'\", '').strip() #replace will drop the ' character\n",
        "    details_webpage = requests.get(f\"https://nextspaceflight.com{details_button}\")\n",
        "    \n",
        "    launch_details = BeautifulSoup(details_webpage.content, \"lxml\")\n",
        "\n",
        "    mission_status = launch_details.find(\"h6\", {\"class\":\"rcorners status\"}).text.strip() #Capture Mission Status.\n",
        "\n",
        "    rocket_details = launch_details.find(\"div\", {\"class\":\"mdl-cell mdl-cell--6-col-desktop mdl-cell--4-col-tablet mdl-cell--4-col-phone\"})\n",
        "\n",
        "    #Enter the rocket table and get Rocket Status and Price.\n",
        "    for rocket_aspect in rocket_details.find_all(\"div\", {\"class\":\"mdl-cell mdl-cell--6-col-desktop mdl-cell--12-col-tablet\"}):\n",
        "\n",
        "      detail_rocket = rocket_aspect.text.split(\":\")\n",
        "      if detail_rocket[0] == \"Price\":\n",
        "        price = detail_rocket[1]\n",
        "      if detail_rocket[0] == \"Status\":\n",
        "        rocket_status = detail_rocket[1]\n",
        "\n",
        "    #Create dataframe row with launch data. We can add multiple values to list with extend()\n",
        "    rocket = [organisation, location, date, detail, rocket_status, price, mission_status]\n",
        "\n",
        "    #Adding Rocket Launch Data to  \n",
        "    spaceflights_list.append(rocket)\n",
        "\n",
        "  #Go to next page.\n",
        "  right_div = soup.find(\"div\", {\"style\":\"float: right; margin-right: 5px\"})\n",
        "  if right_div: # If there is another page\n",
        "    next_page = right_div.find(\"button\", {\"class\":\"mdc-button mdc-button--raised\"}).get('onclick').split(\" = \")[1].replace(\"'\", '').strip() \n",
        "    webpage = f\"https://nextspaceflight.com/launches/past/{next_page}\"  \n",
        "\n",
        "  else:\n",
        "    break\n",
        "\n",
        "#Converting Spaceflights List to Pandas Dataframe.\n",
        "spaceflights_data = pd.DataFrame(spaceflights_list, columns=['Organisation', 'Location', 'Date',\n",
        "                                              'Detail', 'Rocket_Status', 'Price', 'Mission_Status'])"
      ],
      "metadata": {
        "id": "G2lEu3VeYHgT"
      },
      "execution_count": null,
      "outputs": []
    },
    {
      "cell_type": "code",
      "source": [
        "#Checking data scrapped.\n",
        "spaceflights_data.head()"
      ],
      "metadata": {
        "colab": {
          "base_uri": "https://localhost:8080/",
          "height": 337
        },
        "id": "ed3R5d0UrT5U",
        "outputId": "f2d880b6-b01e-4616-faf8-7d80c828185c"
      },
      "execution_count": null,
      "outputs": [
        {
          "output_type": "execute_result",
          "data": {
            "text/plain": [
              "  Organisation                                           Location  \\\n",
              "0       SpaceX         LC-39A, Kennedy Space Center, Florida, USA   \n",
              "1  Arianespace  ELA-3, Guiana Space Centre, French Guiana, France   \n",
              "2         CASC       LC-3, Xichang Satellite Launch Center, China   \n",
              "3        CASIC    Site 95, Jiuquan Satellite Launch Center, China   \n",
              "4       SpaceX           SLC-40, Cape Canaveral SFS, Florida, USA   \n",
              "\n",
              "                         Date  \\\n",
              "0  Sun Sep 11, 2022 01:20 UTC   \n",
              "1  Wed Sep 07, 2022 21:45 UTC   \n",
              "2  Tue Sep 06, 2022 04:19 UTC   \n",
              "3  Tue Sep 06, 2022 02:24 UTC   \n",
              "4  Mon Sep 05, 2022 02:09 UTC   \n",
              "\n",
              "                                              Detail Rocket_Status  \\\n",
              "0  Falcon 9 Block 5 | Starlink Group 4-2, BlueWal...        Active   \n",
              "1               Ariane 5 ECA | Eutelsat Konnect VHTS        Active   \n",
              "2                 Long March 2D | Yaogan 35 Group 05        Active   \n",
              "3                 Kuaizhou 1A | CentiSpace-1 S3 & S4        Active   \n",
              "4  Falcon 9 Block 5 | Starlink Group 4-20 and Var...        Active   \n",
              "\n",
              "             Price Mission_Status  \n",
              "0    $67.0 million        Success  \n",
              "1   $200.0 million        Success  \n",
              "2   $29.75 million        Success  \n",
              "3     $5.8 million        Success  \n",
              "4    $67.0 million        Success  "
            ],
            "text/html": [
              "\n",
              "  <div id=\"df-549d17e5-0749-4327-aca9-5afea8e75321\">\n",
              "    <div class=\"colab-df-container\">\n",
              "      <div>\n",
              "<style scoped>\n",
              "    .dataframe tbody tr th:only-of-type {\n",
              "        vertical-align: middle;\n",
              "    }\n",
              "\n",
              "    .dataframe tbody tr th {\n",
              "        vertical-align: top;\n",
              "    }\n",
              "\n",
              "    .dataframe thead th {\n",
              "        text-align: right;\n",
              "    }\n",
              "</style>\n",
              "<table border=\"1\" class=\"dataframe\">\n",
              "  <thead>\n",
              "    <tr style=\"text-align: right;\">\n",
              "      <th></th>\n",
              "      <th>Organisation</th>\n",
              "      <th>Location</th>\n",
              "      <th>Date</th>\n",
              "      <th>Detail</th>\n",
              "      <th>Rocket_Status</th>\n",
              "      <th>Price</th>\n",
              "      <th>Mission_Status</th>\n",
              "    </tr>\n",
              "  </thead>\n",
              "  <tbody>\n",
              "    <tr>\n",
              "      <th>0</th>\n",
              "      <td>SpaceX</td>\n",
              "      <td>LC-39A, Kennedy Space Center, Florida, USA</td>\n",
              "      <td>Sun Sep 11, 2022 01:20 UTC</td>\n",
              "      <td>Falcon 9 Block 5 | Starlink Group 4-2, BlueWal...</td>\n",
              "      <td>Active</td>\n",
              "      <td>$67.0 million</td>\n",
              "      <td>Success</td>\n",
              "    </tr>\n",
              "    <tr>\n",
              "      <th>1</th>\n",
              "      <td>Arianespace</td>\n",
              "      <td>ELA-3, Guiana Space Centre, French Guiana, France</td>\n",
              "      <td>Wed Sep 07, 2022 21:45 UTC</td>\n",
              "      <td>Ariane 5 ECA | Eutelsat Konnect VHTS</td>\n",
              "      <td>Active</td>\n",
              "      <td>$200.0 million</td>\n",
              "      <td>Success</td>\n",
              "    </tr>\n",
              "    <tr>\n",
              "      <th>2</th>\n",
              "      <td>CASC</td>\n",
              "      <td>LC-3, Xichang Satellite Launch Center, China</td>\n",
              "      <td>Tue Sep 06, 2022 04:19 UTC</td>\n",
              "      <td>Long March 2D | Yaogan 35 Group 05</td>\n",
              "      <td>Active</td>\n",
              "      <td>$29.75 million</td>\n",
              "      <td>Success</td>\n",
              "    </tr>\n",
              "    <tr>\n",
              "      <th>3</th>\n",
              "      <td>CASIC</td>\n",
              "      <td>Site 95, Jiuquan Satellite Launch Center, China</td>\n",
              "      <td>Tue Sep 06, 2022 02:24 UTC</td>\n",
              "      <td>Kuaizhou 1A | CentiSpace-1 S3 &amp; S4</td>\n",
              "      <td>Active</td>\n",
              "      <td>$5.8 million</td>\n",
              "      <td>Success</td>\n",
              "    </tr>\n",
              "    <tr>\n",
              "      <th>4</th>\n",
              "      <td>SpaceX</td>\n",
              "      <td>SLC-40, Cape Canaveral SFS, Florida, USA</td>\n",
              "      <td>Mon Sep 05, 2022 02:09 UTC</td>\n",
              "      <td>Falcon 9 Block 5 | Starlink Group 4-20 and Var...</td>\n",
              "      <td>Active</td>\n",
              "      <td>$67.0 million</td>\n",
              "      <td>Success</td>\n",
              "    </tr>\n",
              "  </tbody>\n",
              "</table>\n",
              "</div>\n",
              "      <button class=\"colab-df-convert\" onclick=\"convertToInteractive('df-549d17e5-0749-4327-aca9-5afea8e75321')\"\n",
              "              title=\"Convert this dataframe to an interactive table.\"\n",
              "              style=\"display:none;\">\n",
              "        \n",
              "  <svg xmlns=\"http://www.w3.org/2000/svg\" height=\"24px\"viewBox=\"0 0 24 24\"\n",
              "       width=\"24px\">\n",
              "    <path d=\"M0 0h24v24H0V0z\" fill=\"none\"/>\n",
              "    <path d=\"M18.56 5.44l.94 2.06.94-2.06 2.06-.94-2.06-.94-.94-2.06-.94 2.06-2.06.94zm-11 1L8.5 8.5l.94-2.06 2.06-.94-2.06-.94L8.5 2.5l-.94 2.06-2.06.94zm10 10l.94 2.06.94-2.06 2.06-.94-2.06-.94-.94-2.06-.94 2.06-2.06.94z\"/><path d=\"M17.41 7.96l-1.37-1.37c-.4-.4-.92-.59-1.43-.59-.52 0-1.04.2-1.43.59L10.3 9.45l-7.72 7.72c-.78.78-.78 2.05 0 2.83L4 21.41c.39.39.9.59 1.41.59.51 0 1.02-.2 1.41-.59l7.78-7.78 2.81-2.81c.8-.78.8-2.07 0-2.86zM5.41 20L4 18.59l7.72-7.72 1.47 1.35L5.41 20z\"/>\n",
              "  </svg>\n",
              "      </button>\n",
              "      \n",
              "  <style>\n",
              "    .colab-df-container {\n",
              "      display:flex;\n",
              "      flex-wrap:wrap;\n",
              "      gap: 12px;\n",
              "    }\n",
              "\n",
              "    .colab-df-convert {\n",
              "      background-color: #E8F0FE;\n",
              "      border: none;\n",
              "      border-radius: 50%;\n",
              "      cursor: pointer;\n",
              "      display: none;\n",
              "      fill: #1967D2;\n",
              "      height: 32px;\n",
              "      padding: 0 0 0 0;\n",
              "      width: 32px;\n",
              "    }\n",
              "\n",
              "    .colab-df-convert:hover {\n",
              "      background-color: #E2EBFA;\n",
              "      box-shadow: 0px 1px 2px rgba(60, 64, 67, 0.3), 0px 1px 3px 1px rgba(60, 64, 67, 0.15);\n",
              "      fill: #174EA6;\n",
              "    }\n",
              "\n",
              "    [theme=dark] .colab-df-convert {\n",
              "      background-color: #3B4455;\n",
              "      fill: #D2E3FC;\n",
              "    }\n",
              "\n",
              "    [theme=dark] .colab-df-convert:hover {\n",
              "      background-color: #434B5C;\n",
              "      box-shadow: 0px 1px 3px 1px rgba(0, 0, 0, 0.15);\n",
              "      filter: drop-shadow(0px 1px 2px rgba(0, 0, 0, 0.3));\n",
              "      fill: #FFFFFF;\n",
              "    }\n",
              "  </style>\n",
              "\n",
              "      <script>\n",
              "        const buttonEl =\n",
              "          document.querySelector('#df-549d17e5-0749-4327-aca9-5afea8e75321 button.colab-df-convert');\n",
              "        buttonEl.style.display =\n",
              "          google.colab.kernel.accessAllowed ? 'block' : 'none';\n",
              "\n",
              "        async function convertToInteractive(key) {\n",
              "          const element = document.querySelector('#df-549d17e5-0749-4327-aca9-5afea8e75321');\n",
              "          const dataTable =\n",
              "            await google.colab.kernel.invokeFunction('convertToInteractive',\n",
              "                                                     [key], {});\n",
              "          if (!dataTable) return;\n",
              "\n",
              "          const docLinkHtml = 'Like what you see? Visit the ' +\n",
              "            '<a target=\"_blank\" href=https://colab.research.google.com/notebooks/data_table.ipynb>data table notebook</a>'\n",
              "            + ' to learn more about interactive tables.';\n",
              "          element.innerHTML = '';\n",
              "          dataTable['output_type'] = 'display_data';\n",
              "          await google.colab.output.renderOutput(dataTable, element);\n",
              "          const docLink = document.createElement('div');\n",
              "          docLink.innerHTML = docLinkHtml;\n",
              "          element.appendChild(docLink);\n",
              "        }\n",
              "      </script>\n",
              "    </div>\n",
              "  </div>\n",
              "  "
            ]
          },
          "metadata": {},
          "execution_count": 72
        }
      ]
    },
    {
      "cell_type": "code",
      "source": [
        "# Examine the data types\n",
        "spaceflights_data.info()"
      ],
      "metadata": {
        "colab": {
          "base_uri": "https://localhost:8080/"
        },
        "id": "-9oEl1RA5uxQ",
        "outputId": "2de8d60a-9cd1-4ebf-c051-e1e2d69823c6"
      },
      "execution_count": null,
      "outputs": [
        {
          "output_type": "stream",
          "name": "stdout",
          "text": [
            "<class 'pandas.core.frame.DataFrame'>\n",
            "RangeIndex: 6378 entries, 0 to 6377\n",
            "Data columns (total 7 columns):\n",
            " #   Column          Non-Null Count  Dtype \n",
            "---  ------          --------------  ----- \n",
            " 0   Organisation    6378 non-null   object\n",
            " 1   Location        6378 non-null   object\n",
            " 2   Date            6378 non-null   object\n",
            " 3   Detail          6378 non-null   object\n",
            " 4   Rocket_Status   6378 non-null   object\n",
            " 5   Price           2376 non-null   object\n",
            " 6   Mission_Status  6378 non-null   object\n",
            "dtypes: object(7)\n",
            "memory usage: 348.9+ KB\n"
          ]
        }
      ]
    },
    {
      "cell_type": "markdown",
      "source": [
        "# Storing Data Launches"
      ],
      "metadata": {
        "id": "IIGopjbvuUTr"
      }
    },
    {
      "cell_type": "code",
      "source": [
        "#Transform and store data to a comma-separated values (csv) file.\n",
        "path = \"Your_path_to_save\"\n",
        "spaceflights_data.to_csv(path_or_buf=f\"{path}spaceflights_data.csv\")"
      ],
      "metadata": {
        "id": "xbiqze8dtqT9"
      },
      "execution_count": null,
      "outputs": []
    }
  ]
}